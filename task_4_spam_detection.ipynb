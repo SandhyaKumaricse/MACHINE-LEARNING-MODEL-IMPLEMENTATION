{
 "cells": [
  {
   "cell_type": "markdown",
   "id": "24f357c2",
   "metadata": {},
   "source": [
    "## 📌 Task 4 – Machine Learning Model Implementation\n",
    "#### 🔍 Spam Detection using Naive Bayes & Scikit-Learn"
   ]
  },
  {
   "cell_type": "markdown",
   "id": "ea12c15e",
   "metadata": {},
   "source": [
    "#### 🧰 Libraries Used:\n",
    "- pandas\n",
    "- sklearn\n",
    "- matplotlib\n",
    "- seaborn\n"
   ]
  },
  {
   "cell_type": "code",
   "execution_count": null,
   "id": "c38f2d43",
   "metadata": {},
   "outputs": [],
   "source": [
    "# Importing libraries\n",
    "import pandas as pd\n",
    "from sklearn.model_selection import train_test_split\n",
    "from sklearn.feature_extraction.text import CountVectorizer\n",
    "from sklearn.naive_bayes import MultinomialNB\n",
    "from sklearn.metrics import classification_report, accuracy_score\n",
    "import seaborn as sns\n",
    "import matplotlib.pyplot as plt"
   ]
  },
  {
   "cell_type": "code",
   "execution_count": null,
   "id": "eb5af9e5",
   "metadata": {},
   "outputs": [],
   "source": [
    "# Loading the dataset\n",
    "url = 'https://raw.githubusercontent.com/justmarkham/pycon-2016-tutorial/master/data/sms.tsv'\n",
    "df = pd.read_csv(url, sep='\\t', header=None, names=['label', 'message'])\n",
    "df.head()"
   ]
  },
  {
   "cell_type": "code",
   "execution_count": null,
   "id": "84a478e5",
   "metadata": {},
   "outputs": [],
   "source": [
    "# Encoding labels: ham -> 0, spam -> 1\n",
    "df['label_num'] = df.label.map({'ham': 0, 'spam': 1})"
   ]
  },
  {
   "cell_type": "code",
   "execution_count": null,
   "id": "5b994487",
   "metadata": {},
   "outputs": [],
   "source": [
    "# Splitting dataset\n",
    "X_train, X_test, y_train, y_test = train_test_split(df['message'], df['label_num'], test_size=0.25, random_state=42)"
   ]
  },
  {
   "cell_type": "code",
   "execution_count": null,
   "id": "5824979a",
   "metadata": {},
   "outputs": [],
   "source": [
    "# Vectorizing text\n",
    "vectorizer = CountVectorizer()\n",
    "X_train_vec = vectorizer.fit_transform(X_train)\n",
    "X_test_vec = vectorizer.transform(X_test)"
   ]
  },
  {
   "cell_type": "code",
   "execution_count": null,
   "id": "b4b5a70f",
   "metadata": {},
   "outputs": [],
   "source": [
    "# Model Training\n",
    "model = MultinomialNB()\n",
    "model.fit(X_train_vec, y_train)"
   ]
  },
  {
   "cell_type": "code",
   "execution_count": null,
   "id": "7873051f",
   "metadata": {},
   "outputs": [],
   "source": [
    "# Prediction & Evaluation\n",
    "y_pred = model.predict(X_test_vec)\n",
    "print('Accuracy:', accuracy_score(y_test, y_pred))\n",
    "print('\\nClassification Report:\\n', classification_report(y_test, y_pred))"
   ]
  },
  {
   "cell_type": "code",
   "execution_count": null,
   "id": "dac337dd",
   "metadata": {},
   "outputs": [],
   "source": [
    "# Plotting label distribution\n",
    "sns.countplot(data=df, x='label')\n",
    "plt.title('Label Distribution')\n",
    "plt.show()"
   ]
  }
 ],
 "metadata": {
  "language_info": {
   "name": "python"
  }
 },
 "nbformat": 4,
 "nbformat_minor": 5
}
